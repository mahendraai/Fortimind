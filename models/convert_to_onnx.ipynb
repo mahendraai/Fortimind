{
 "cells": [
  {
   "cell_type": "markdown",
   "metadata": {},
   "source": [
    "# Convert Models to ONNX Format\n",
    "\n",
    "This notebook provides a method for converting machine learning models to the ONNX format. ONNX (Open Neural Network Exchange) is an open format built to represent machine learning models. It allows models to be used across different frameworks and tools."
   ]
  },
  {
   "cell_type": "code",
   "execution_count": null,
   "metadata": {
    "collapsed": false
   },
   "outputs": [],
   "source": [
    "import torch\n",
    "import torchvision.models as models\n",
    "\n",
    "# Define the model to be converted\n",
    "model = models.resnet18(pretrained=True)\n",
    "model.eval()\n",
    "\n",
    "# Create example input\n",
    "dummy_input = torch.randn(1, 3, 224, 224)\n",
    "\n",
    "# Convert the model to ONNX format\n",
    "onnx_file_path = \"models/resnet18.onnx\"\n",
    "torch.onnx.export(model, dummy_input, onnx_file_path, \n",
    "                  export_params=True, \n",
    "                  opset_version=11, \n",
    "                  do_constant_folding=True, \n",
    "                  input_names=['input'], \n",
    "                  output_names=['output'])\n",
    "\n",
    "print(f'Model has been converted to ONNX format and saved to {onnx_file_path}')"
   ]
  },
  {
   "cell_type": "markdown",
   "metadata": {},
   "source": [
    "## Additional Notes\n",
    "- Ensure that the required libraries are installed in your environment.\n",
    "- Modify the model and input dimensions as necessary for your specific use case."
   ]
  }
 ],
 "metadata": {
  "kernelspec": {
   "display_name": "Python 3",
   "language": "python",
   "name": "python3"
  },
  "language_info": {
   "codemirror_mode": {
    "name": "ipython",
    "version": 3
   },
   "file_extension": ".py",
   "mimetype": "text/x-python",
   "name": "python",
   "nbconvert_exporter": "python",
   "pygments_lexer": "ipython3",
   "version": "3.8.5"
  }
 },
 "nbformat": 4,
 "nbformat_minor": 4
}